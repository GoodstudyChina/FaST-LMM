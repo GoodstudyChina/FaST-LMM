{
 "cells": [
  {
   "cell_type": "code",
   "execution_count": 1,
   "metadata": {},
   "outputs": [],
   "source": [
    "import numpy as np\n",
    "import pandas as pd\n",
    "import numpy.linalg as la"
   ]
  },
  {
   "cell_type": "code",
   "execution_count": 2,
   "metadata": {},
   "outputs": [
    {
     "data": {
      "text/plain": [
       "array([[0.28, 0.44, 0.96, ..., 0.29, 0.57, 0.7 ],\n",
       "       [0.89, 0.66, 0.38, ..., 0.33, 0.84, 0.85],\n",
       "       [0.38, 0.42, 0.09, ..., 0.7 , 0.86, 0.9 ],\n",
       "       ...,\n",
       "       [0.87, 0.68, 0.19, ..., 0.27, 0.23, 0.96],\n",
       "       [0.73, 0.12, 0.08, ..., 0.47, 0.51, 0.  ],\n",
       "       [0.18, 0.72, 0.94, ..., 0.35, 0.86, 0.42]])"
      ]
     },
     "execution_count": 2,
     "metadata": {},
     "output_type": "execute_result"
    }
   ],
   "source": [
    "size = 20*1000\n",
    "X = np.random.random((size, size))\n",
    "X.round(2)"
   ]
  },
  {
   "cell_type": "code",
   "execution_count": 3,
   "metadata": {},
   "outputs": [
    {
     "data": {
      "text/plain": [
       "(array([[0., 0., 0., ..., 0., 0., 0.],\n",
       "        [0., 0., 0., ..., 0., 0., 0.],\n",
       "        [0., 0., 0., ..., 0., 0., 0.],\n",
       "        ...,\n",
       "        [0., 0., 0., ..., 0., 0., 0.],\n",
       "        [0., 0., 0., ..., 0., 0., 0.],\n",
       "        [0., 0., 0., ..., 0., 0., 0.]]),\n",
       " array([2.4446376e-316, 4.0087941e-316, 0.0000000e+000, ...,\n",
       "        0.0000000e+000, 0.0000000e+000, 0.0000000e+000]),\n",
       " array([[0., 0., 0., ..., 0., 0., 0.],\n",
       "        [0., 0., 0., ..., 0., 0., 0.],\n",
       "        [0., 0., 0., ..., 0., 0., 0.],\n",
       "        ...,\n",
       "        [0., 0., 0., ..., 0., 0., 0.],\n",
       "        [0., 0., 0., ..., 0., 0., 0.],\n",
       "        [0., 0., 0., ..., 0., 0., 0.]]))"
      ]
     },
     "execution_count": 3,
     "metadata": {},
     "output_type": "execute_result"
    }
   ],
   "source": [
    "U,S,V = la.svd(X,False,True)\n",
    "U,S,V"
   ]
  },
  {
   "cell_type": "code",
   "execution_count": 1,
   "metadata": {},
   "outputs": [
    {
     "ename": "NameError",
     "evalue": "name 'np' is not defined",
     "output_type": "error",
     "traceback": [
      "\u001b[1;31m---------------------------------------------------------------------------\u001b[0m",
      "\u001b[1;31mNameError\u001b[0m                                 Traceback (most recent call last)",
      "\u001b[1;32m<ipython-input-1-13c69cd3576e>\u001b[0m in \u001b[0;36m<module>\u001b[1;34m()\u001b[0m\n\u001b[1;32m----> 1\u001b[1;33m \u001b[1;32mnot\u001b[0m \u001b[0mnp\u001b[0m\u001b[1;33m.\u001b[0m\u001b[0many\u001b[0m\u001b[1;33m(\u001b[0m\u001b[0mU\u001b[0m\u001b[1;33m)\u001b[0m\u001b[1;33m\u001b[0m\u001b[0m\n\u001b[0m",
      "\u001b[1;31mNameError\u001b[0m: name 'np' is not defined"
     ]
    }
   ],
   "source": [
    "not np.any(U)"
   ]
  },
  {
   "cell_type": "code",
   "execution_count": 1,
   "metadata": {},
   "outputs": [
    {
     "name": "stdout",
     "output_type": "stream",
     "text": [
      "Starting 1000x1000. Predict 0.67 seconds\n",
      "Done in 0.321 seconds. Next will check.\n",
      "\tChecks out\n",
      "Starting 5000x5000. Predict 40.125 seconds\n",
      "Done in 17.475 seconds. Next will check.\n",
      "\tChecks out\n",
      "Starting 24000x24000. Predict 1932.5952 seconds\n",
      "Done in 151.7 seconds. Next will check.\n",
      "FAIL Expect U,V to be non-zero\n",
      "Starting 25000x25000. Predict 2184.375 seconds\n",
      "Done in 207.495 seconds. Next will check.\n",
      "FAIL Expect U,V to be non-zero\n",
      "Starting 26000x26000. Predict 2457.1248 seconds\n",
      "Done in 246.799 seconds. Next will check.\n",
      "FAIL Expect U,V to be non-zero\n",
      "Starting 27000x27000. Predict 2751.6834 seconds\n",
      "Done in 246.478 seconds. Next will check.\n",
      "FAIL Expect U,V to be non-zero\n"
     ]
    }
   ],
   "source": [
    "import numpy as np\n",
    "import pandas as pd\n",
    "import numpy.linalg as la\n",
    "import datetime\n",
    "p_size = 1000\n",
    "p_seconds = .67\n",
    "\n",
    "#svd\n",
    "#error 20*1000,19K,18K,17K\n",
    "#16K is OK\n",
    "\n",
    "#eigh\n",
    "# ok at 17K,18K, 20K, 22K (failed before) \n",
    "# Fail at 24\n",
    "#memory at 3\n",
    "\n",
    "for size in [1000,5000,24*1000,25*1000,26*1000,27*1000]:\n",
    "    predict = p_seconds * (float(size)/p_size)**3\n",
    "    print(\"Starting {0}x{0}. Predict {1} seconds\".format(size,predict))\n",
    "    start = datetime.datetime.now()\n",
    "    np.random.seed(0)\n",
    "    X = np.random.randn(size, size).astype(np.float)# + np.random.randn(row_count, col_count)\n",
    "    #X = np.random.random((size, size))\n",
    "    #U,s,V = la.svd(X,False,True)\n",
    "    S,V = la.eigh(X.T.dot(X))\n",
    "    delta = datetime.datetime.now() - start\n",
    "    print(\"Done in {0} seconds. Next will check.\".format(delta.total_seconds())) \n",
    "    if not np.any(V):\n",
    "        print(\"FAIL Expect U,V to be non-zero\")\n",
    "    else:\n",
    "        delta.total_seconds()\n",
    "        print(\"\\tChecks out\")    \n",
    "        p_size = size\n",
    "        p_seconds = delta.total_seconds()\n",
    "    "
   ]
  },
  {
   "cell_type": "code",
   "execution_count": null,
   "metadata": {},
   "outputs": [],
   "source": []
  }
 ],
 "metadata": {
  "kernelspec": {
   "display_name": "Python 2",
   "language": "python",
   "name": "python2"
  },
  "language_info": {
   "codemirror_mode": {
    "name": "ipython",
    "version": 2
   },
   "file_extension": ".py",
   "mimetype": "text/x-python",
   "name": "python",
   "nbconvert_exporter": "python",
   "pygments_lexer": "ipython2",
   "version": "2.7.16"
  }
 },
 "nbformat": 4,
 "nbformat_minor": 2
}
